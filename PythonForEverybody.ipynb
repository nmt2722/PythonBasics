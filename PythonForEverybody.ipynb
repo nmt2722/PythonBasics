{
 "cells": [
  {
   "cell_type": "code",
   "execution_count": 1,
   "metadata": {},
   "outputs": [
    {
     "name": "stdout",
     "output_type": "stream",
     "text": [
      "Jai Sri Ram\n"
     ]
    }
   ],
   "source": [
    "print('Jai Sri Ram') # welcome\n",
    "# Single line comment"
   ]
  },
  {
   "cell_type": "code",
   "execution_count": 7,
   "metadata": {},
   "outputs": [
    {
     "name": "stdout",
     "output_type": "stream",
     "text": [
      "Srimathe Ramanujaya Namaha\n",
      "sri varavara munaye nammaha\n",
      "\"Jai Sri Krishna\"\n",
      "'Hare Rama Hare Rama'\n",
      "it isn't looking good\n",
      " he said \"do not quit\" quitting isn't an option \n"
     ]
    }
   ],
   "source": [
    "# playing with the quotes\n",
    "print(\"Srimathe Ramanujaya Namaha\") # simple double quotes\n",
    "print('sri varavara munaye nammaha') # simple single quotes\n",
    "print ('\"Jai Sri Krishna\"') # double quoted string\n",
    "print(\"'Hare Rama Hare Rama'\") # sinle quoted string\n",
    "print('it isn\\'t looking good') # using \\ to insert quotes\n",
    "print(\"\"\" he said \"do not quit\" quitting isn't an option \"\"\") # Triple quotes a fool proof way of enclosing strings"
   ]
  },
  {
   "cell_type": "code",
   "execution_count": 8,
   "metadata": {},
   "outputs": [
    {
     "name": "stdout",
     "output_type": "stream",
     "text": [
      "0.9230769230769231\n",
      "0.9230769230769231\n",
      "1.0833333333333333\n"
     ]
    }
   ],
   "source": [
    "\n",
    "# integer division\n",
    "a=12\n",
    "b=13\n",
    "print(a/b)\n",
    "# yields float\n",
    "width=12\n",
    "height=13.0\n",
    "print(width/height)\n",
    "print(height/width)\n",
    "# again yields float"
   ]
  },
  {
   "cell_type": "code",
   "execution_count": 1,
   "metadata": {},
   "outputs": [],
   "source": [
    "somename='Visitor'\n"
   ]
  },
  {
   "cell_type": "code",
   "execution_count": 3,
   "metadata": {},
   "outputs": [
    {
     "name": "stdout",
     "output_type": "stream",
     "text": [
      "Hello VisitorWelcome to this new world of python\n",
      "hello Visitor welcome to this new world of python\n"
     ]
    }
   ],
   "source": [
    "print(\"Hello \"+somename+\"Welcome to this new world of python\") # string concatination using + symbol\n",
    "print(f'hello {somename} welcome to this new world of python') # using the f string"
   ]
  },
  {
   "cell_type": "code",
   "execution_count": 14,
   "metadata": {},
   "outputs": [
    {
     "name": "stdout",
     "output_type": "stream",
     "text": [
      "and gate\n"
     ]
    }
   ],
   "source": [
    "x=0\n",
    "y=1.78\n",
    "if x==0:\n",
    "    if y<=2.0:\n",
    "        print(\"and gate\")\n"
   ]
  },
  {
   "cell_type": "code",
   "execution_count": 13,
   "metadata": {},
   "outputs": [
    {
     "name": "stdout",
     "output_type": "stream",
     "text": [
      "true\n"
     ]
    }
   ],
   "source": [
    "# look at this \n",
    "x=0\n",
    "y=5\n",
    "if 0==x:\n",
    "    if 5.0==y:\n",
    "        print(\"true\")"
   ]
  },
  {
   "cell_type": "code",
   "execution_count": 17,
   "metadata": {},
   "outputs": [
    {
     "name": "stdout",
     "output_type": "stream",
     "text": [
      "cannot convert string to float\n"
     ]
    }
   ],
   "source": [
    "\n",
    "temp=\"5 degrees\"\n",
    "try:\n",
    "    far=12.4*float(temp)\n",
    "    print(far)\n",
    "except:\n",
    "    print(\"cannot convert string to float\")"
   ]
  },
  {
   "cell_type": "code",
   "execution_count": 19,
   "metadata": {},
   "outputs": [
    {
     "name": "stdout",
     "output_type": "stream",
     "text": [
      "Before: None\n",
      "Smallest: 3\n"
     ]
    }
   ],
   "source": [
    "smallest = None\n",
    "print(\"Before:\", smallest)\n",
    "for itervar in [3, 41, 12, 9, 74, 15]:\n",
    "    if smallest is None or itervar < smallest:\n",
    "        smallest = itervar\n",
    "        break\n",
    "    print(\"Loop:\", itervar, smallest)\n",
    "print(\"Smallest:\", smallest)"
   ]
  },
  {
   "cell_type": "code",
   "execution_count": 13,
   "metadata": {},
   "outputs": [
    {
     "name": "stdout",
     "output_type": "stream",
     "text": [
      "is and is not \n"
     ]
    }
   ],
   "source": [
    "number1=None\n",
    "number2=5\n",
    "if number1 is None and  number2 is not number1:\n",
    "    print(\"is and is not \")"
   ]
  },
  {
   "cell_type": "code",
   "execution_count": 5,
   "metadata": {},
   "outputs": [
    {
     "data": {
      "text/plain": [
       "True"
      ]
     },
     "execution_count": 5,
     "metadata": {},
     "output_type": "execute_result"
    }
   ],
   "source": [
    "0==0.00"
   ]
  },
  {
   "cell_type": "code",
   "execution_count": 15,
   "metadata": {},
   "outputs": [
    {
     "name": "stdout",
     "output_type": "stream",
     "text": [
      "2\n"
     ]
    }
   ],
   "source": [
    "word = \"bananana\"\n",
    "i = word.find(\"na\")\n",
    "print(i)"
   ]
  },
  {
   "cell_type": "code",
   "execution_count": null,
   "metadata": {},
   "outputs": [],
   "source": []
  },
  {
   "cell_type": "code",
   "execution_count": null,
   "metadata": {},
   "outputs": [],
   "source": []
  },
  {
   "cell_type": "code",
   "execution_count": null,
   "metadata": {},
   "outputs": [],
   "source": []
  }
 ],
 "metadata": {
  "kernelspec": {
   "display_name": "Python 3.10.0 64-bit",
   "language": "python",
   "name": "python3"
  },
  "language_info": {
   "codemirror_mode": {
    "name": "ipython",
    "version": 3
   },
   "file_extension": ".py",
   "mimetype": "text/x-python",
   "name": "python",
   "nbconvert_exporter": "python",
   "pygments_lexer": "ipython3",
   "version": "3.10.0"
  },
  "orig_nbformat": 4,
  "vscode": {
   "interpreter": {
    "hash": "213524bb45a1aeaf737b1d8c77d7b8db5d425938d9dffc5f4bc6fe6dd3324700"
   }
  }
 },
 "nbformat": 4,
 "nbformat_minor": 2
}
